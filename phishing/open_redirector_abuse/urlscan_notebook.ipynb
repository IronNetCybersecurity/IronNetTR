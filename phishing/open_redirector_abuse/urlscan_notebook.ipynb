{
 "cells": [
  {
   "cell_type": "markdown",
   "id": "wanted-allah",
   "metadata": {},
   "source": [
    "# Notebook for retrieving final destination phishing domains from urlscan.io \n",
    "\n",
    "## Requirements\n",
    "* Python Libraries\n",
    "  * Pandas\n",
    "  * Requests\n",
    "* urlscan.io API Key"
   ]
  },
  {
   "cell_type": "code",
   "execution_count": null,
   "id": "unlike-inventory",
   "metadata": {},
   "outputs": [],
   "source": [
    "# Libs\n",
    "from requests import get\n",
    "from getpass import getpass\n",
    "from urllib.parse import quote\n",
    "from json import loads\n",
    "import pandas as pd\n",
    "pd.set_option('display.max_columns', None)\n",
    "pd.set_option('display.max_rows', None)\n",
    "pd.set_option('display.max_colwidth', None)"
   ]
  },
  {
   "cell_type": "markdown",
   "id": "light-honor",
   "metadata": {},
   "source": [
    "## Get urlscan.io data\n",
    "\n",
    "### REGEXs\n",
    "We have 3 REGEX queries that will find all the relevant final destination (FD) phishing domains with high accuracy. The first 2 queries are not combined due to limitations in how many results you can obtain at one time from the urlscan API. \n",
    "\n",
    "#### REGEX 1: All FD URLs abusing reCAPTCHA with `-`\n",
    "**Base REGEX**\n",
    "\n",
    "```\n",
    "^(http)(s)?:\\/\\/([a-z0-9]+\\.)?[a-z0-9]{1,}\\-[a-z0-9]{1,}\\.[a-z]+\\/(main|jump)\\/$\n",
    "```\n",
    "\n",
    "**urlscan.io Query**\n",
    "\n",
    "```\n",
    "filename:\"/recaptcha/api.js\" AND page.url.keyword:/(http)(s)?:\\/\\/([a-z0-9]+\\.)?[a-z0-9]{1,}\\-[a-z0-9]{1,}\\.[a-z]+\\/(main|jump)\\//\n",
    "```\n",
    "\n",
    "\n",
    "#### REGEX 2: All FD URLs abusing reCAPTCHA without `-`\n",
    "**Base REGEX**\n",
    "\n",
    "```\n",
    "^(http)(s)?:\\/\\/([a-z0-9]+\\.)?([a-z]|[0-9])+\\.[a-z]+\\/(main|jump)\\/$\n",
    "```\n",
    "\n",
    "**urlscan.io Query**\n",
    "```\n",
    "filename:\"/recaptcha/api.js\" AND page.url.keyword:/(http)(s)?:\\/\\/([a-z0-9]+\\.)?([a-z]|[0-9])+\\.[a-z]+\\/(main|jump)\\//\n",
    "```\n",
    "\n",
    "\n",
    "#### REGEX 3: All FD URLs Serving ExRobotos Phishing Kit\n",
    "**Base REGEX**\n",
    "\n",
    "```\n",
    "^(http)(s)?:\\/\\/([a-z0-9]+\\.)?([a-z0-9\\-])+\\.([a-z])+\\/(.*)?\\.well-known\\/((login\\.php\\?ss=2(&)?.*)|(.*\\/authorize_client_id\\:.*))+$\n",
    "```\n",
    "\n",
    "**urlscan.io Query**\n",
    "```\n",
    "page.url.keyword:/(http)(s)?:\\/\\/([a-z0-9]+\\.)?([a-z0-9\\-])+\\.([a-z])+\\/(.*)?\\.well-known\\/((login\\.php\\?ss=2(&)?.*)|(.*\\/authorize_client_id\\:.*))+/\n",
    "```\n"
   ]
  },
  {
   "cell_type": "markdown",
   "id": "sustained-brighton",
   "metadata": {},
   "source": [
    "### Getting Data\n",
    "Using python requests can sometimes be slow, so if you are using curl, you can also load results from a file.\n",
    "The first code block uses Python's requests library while the next code block loads from a file.\n",
    "\n",
    "#### Python Requests"
   ]
  },
  {
   "cell_type": "markdown",
   "id": "brutal-alfred",
   "metadata": {},
   "source": [
    "**Enter API Key**"
   ]
  },
  {
   "cell_type": "code",
   "execution_count": null,
   "id": "desirable-mainland",
   "metadata": {},
   "outputs": [],
   "source": [
    "api_key = getpass()"
   ]
  },
  {
   "cell_type": "code",
   "execution_count": null,
   "id": "environmental-shannon",
   "metadata": {},
   "outputs": [],
   "source": [
    "# Set max results here!\n",
    "max_results = 10000\n",
    "base_url = f'https://urlscan.io/api/v1/search/?size={max_results}&q='\n",
    "regex_one_query = quote(\n",
    "    'filename:\"/recaptcha/api.js\" AND page.url.keyword:/(http)(s)?:\\/\\/([a-z0-9]+\\.)?[a-z0-9]{1,}\\-[a-z0-9]{1,}\\.(shop|online|xyz|club|com|top|si|org|net|live)\\/(main|jump)\\//'\n",
    ")\n",
    "regex_two_query = quote(\n",
    "    'filename:\"/recaptcha/api.js\" AND page.url.keyword:/(http)(s)?:\\/\\/([a-z0-9]+\\.)?([a-z]|[0-9])+\\.[a-z]+\\/(main|jump)\\//'\n",
    ")\n",
    "regex_three_query = quote(\n",
    "    'page.url.keyword:/(http)(s)?:\\/\\/([a-z0-9]+\\.)?([a-z0-9\\-])+\\.([a-z])+\\/(.*)?\\.well-known\\/((login\\.php\\?ss=2(&)?.*)|(.*\\/authorize_client_id\\:.*))+/'\n",
    ")\n",
    "headers = {'api-key': api_key}"
   ]
  },
  {
   "cell_type": "code",
   "execution_count": null,
   "id": "hundred-assault",
   "metadata": {},
   "outputs": [],
   "source": [
    "regex_one_results = get(f'{base_url}{regex_one_query}', headers=headers).json()"
   ]
  },
  {
   "cell_type": "code",
   "execution_count": null,
   "id": "gentle-wallace",
   "metadata": {},
   "outputs": [],
   "source": [
    "regex_two_results = get(f'{base_url}{regex_two_query}', headers=headers).json()"
   ]
  },
  {
   "cell_type": "code",
   "execution_count": null,
   "id": "political-packet",
   "metadata": {},
   "outputs": [],
   "source": [
    "regex_three_results = get(f'{base_url}{regex_three_query}', headers=headers).json()"
   ]
  },
  {
   "cell_type": "markdown",
   "id": "victorian-sheriff",
   "metadata": {},
   "source": [
    "#### Parse results from json file"
   ]
  },
  {
   "cell_type": "code",
   "execution_count": null,
   "id": "drawn-willow",
   "metadata": {},
   "outputs": [],
   "source": [
    "# Parse results from json file\n",
    "regex_one_file = ''\n",
    "regex_two_file = ''\n",
    "regex_three_file = ''"
   ]
  },
  {
   "cell_type": "code",
   "execution_count": null,
   "id": "qualified-killing",
   "metadata": {},
   "outputs": [],
   "source": [
    "with open(regex_one_file, 'r') as file:\n",
    "    regex_one_results = loads(file.read())"
   ]
  },
  {
   "cell_type": "code",
   "execution_count": null,
   "id": "productive-charge",
   "metadata": {},
   "outputs": [],
   "source": [
    "with open(regex_two_file, 'r') as file:\n",
    "    regex_two_results = loads(file.read())"
   ]
  },
  {
   "cell_type": "code",
   "execution_count": null,
   "id": "documented-screening",
   "metadata": {},
   "outputs": [],
   "source": [
    "with open(regex_three_file, 'r') as file:\n",
    "    regex_three_results = loads(file.read())"
   ]
  },
  {
   "cell_type": "code",
   "execution_count": null,
   "id": "judicial-constant",
   "metadata": {},
   "outputs": [],
   "source": [
    "print(f'REGEX one results: {regex_one_results[\"total\"]}')\n",
    "print(f'REGEX two results: {regex_two_results[\"total\"]}')\n",
    "print(f'REGEX three results: {regex_three_results[\"total\"]}')\n",
    "\n",
    "# Combine data\n",
    "recaptcha_results = regex_one_results['results'] + regex_two_results['results']\n",
    "exrobotos_results = regex_three_results['results']\n",
    "total_recaptcha = len(recaptcha_results)\n",
    "total_exrobotos = len(exrobotos_results)\n",
    "print(f'Total reCAPTCHA results: {total_recaptcha}')\n",
    "print(f'Total ExRobotos results: {total_exrobotos}')"
   ]
  },
  {
   "cell_type": "markdown",
   "id": "korean-video",
   "metadata": {},
   "source": [
    "## Output Final Destination Phishing Domains\n",
    "\n",
    "**Enter output files**"
   ]
  },
  {
   "cell_type": "code",
   "execution_count": null,
   "id": "raised-louisville",
   "metadata": {},
   "outputs": [],
   "source": [
    "output_recaptcha_file = 'phish_domains_abusing_recaptcha.txt'\n",
    "output_exrobotos_file = 'phish_domains_exrobotos.txt'"
   ]
  },
  {
   "cell_type": "code",
   "execution_count": null,
   "id": "related-restoration",
   "metadata": {},
   "outputs": [],
   "source": [
    "# Dedup domains\n",
    "recaptcha_domains = set()\n",
    "for i in recaptcha_results:\n",
    "    recaptcha_domains.add(i['page']['domain'])\n",
    "\n",
    "print(f'Total phishing domains abusing reCAPTCHA: {len(recaptcha_domains)}')\n",
    "\n",
    "# Write to file\n",
    "with open(output_recaptcha_file, 'w+') as file:\n",
    "    for domain in recaptcha_domains:\n",
    "        file.write(f\"{domain}\\n\")\n",
    "\n",
    "# Dedup domains\n",
    "exrobotos_domains = set()\n",
    "for i in exrobotos_results:\n",
    "    exrobotos_domains.add(i['page']['domain'])\n",
    "print(f'Total phishing domains using ExRobotos Phishing Kit: {len(exrobotos_domains)}')\n",
    "\n",
    "# Write to file\n",
    "with open(output_exrobotos_file, 'w+') as file:\n",
    "    for domain in exrobotos_domains:\n",
    "        file.write(f\"{domain}\\n\")"
   ]
  },
  {
   "cell_type": "markdown",
   "id": "essential-medication",
   "metadata": {},
   "source": [
    "**Optional: output phish domains with datetime**"
   ]
  },
  {
   "cell_type": "code",
   "execution_count": null,
   "id": "primary-enterprise",
   "metadata": {},
   "outputs": [],
   "source": [
    "output_recaptcha_file = 'phish_domains_abusing_recaptcha_with_datetime.csv'\n",
    "output_exrobotos_file = 'phish_domains_exrobotos_with_datetime.csv'"
   ]
  },
  {
   "cell_type": "code",
   "execution_count": null,
   "id": "molecular-medicaid",
   "metadata": {},
   "outputs": [],
   "source": [
    "tasks_and_page_urls = []\n",
    "for i in recaptcha_results:\n",
    "    tasks_and_page_urls.append([i['task']['time'], i['page']['domain']])\n",
    "df = pd.DataFrame(tasks_and_page_urls, columns=['Task Time', 'Domain'])\n",
    "\n",
    "print(f'Total results: {len(tasks_and_page_urls)}')\n",
    "\n",
    "# Write to file\n",
    "with open(output_recaptcha_file, 'w+') as file:\n",
    "    file.write(df.to_csv(index=False))\n",
    "\n",
    "    \n",
    "tasks_and_page_urls = []\n",
    "for i in exrobotos_results:\n",
    "    tasks_and_page_urls.append([i['task']['time'], i['page']['domain']])\n",
    "df = pd.DataFrame(tasks_and_page_urls, columns=['Task Time', 'Domain'])\n",
    "\n",
    "print(f'Total results: {len(tasks_and_page_urls)}')\n",
    "\n",
    "# Write to file\n",
    "with open(output_exrobotos_file, 'w+') as file:\n",
    "    file.write(df.to_csv(index=False))"
   ]
  },
  {
   "cell_type": "code",
   "execution_count": null,
   "id": "instructional-sender",
   "metadata": {},
   "outputs": [],
   "source": []
  }
 ],
 "metadata": {
  "kernelspec": {
   "display_name": "Python 3",
   "language": "python",
   "name": "python3"
  },
  "language_info": {
   "codemirror_mode": {
    "name": "ipython",
    "version": 3
   },
   "file_extension": ".py",
   "mimetype": "text/x-python",
   "name": "python",
   "nbconvert_exporter": "python",
   "pygments_lexer": "ipython3",
   "version": "3.9.4"
  }
 },
 "nbformat": 4,
 "nbformat_minor": 5
}
